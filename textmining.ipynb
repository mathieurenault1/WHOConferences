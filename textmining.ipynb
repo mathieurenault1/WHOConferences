{
 "cells": [
  {
   "cell_type": "markdown",
   "metadata": {
    "id": "ijJnggnBsPwS"
   },
   "source": [
    "# Preliminary check, word frequency\n"
   ]
  },
  {
   "cell_type": "code",
   "execution_count": 17,
   "metadata": {},
   "outputs": [
    {
     "name": "stdout",
     "output_type": "stream",
     "text": [
      "['Emergencies', 'Coronavirus', 'EC', 'Meeting', '22', 'January', '2020', 'Speaker', 'key', ':', 'TA', 'DH', 'TAG', 'MR', 'SB', 'MVK', 'MC', 'SN', 'HB', 'JC', 'JG', 'DG', 'GS', 'BU', 'GE', 'BM', 'JZ', 'UF', 'UM', 'Tarik', 'Jasarevic', 'Professor', 'Didier', 'Houssin', 'Dr', 'Tedros', 'Adhanom', 'Ghebreyesus', 'Dr', 'Michael', 'Ryan', 'Dr', 'Sylvie', 'Briand', 'Dr', 'Maria', 'van', 'Kerkhove', 'Marco', 'Clementi']\n",
      "Number of words in corpus 932192\n"
     ]
    },
    {
     "data": {
      "text/plain": [
       "[('the', 36242),\n",
       " ('.', 35775),\n",
       " (',', 32389),\n",
       " ('to', 27264),\n",
       " ('and', 26221),\n",
       " ('of', 19391),\n",
       " ('that', 17999),\n",
       " (\"'\", 16296),\n",
       " ('in', 15234),\n",
       " ('we', 14682)]"
      ]
     },
     "execution_count": 17,
     "metadata": {},
     "output_type": "execute_result"
    }
   ],
   "source": [
    "#We use the NLTK language processing library\n",
    "\n",
    "import nltk\n",
    "from nltk.corpus import PlaintextCorpusReader\n",
    "\n",
    "corpus_root = 'C:/Users/Lerog/Documents/M1/IRTM/txt2'  \n",
    "\n",
    "inaug = PlaintextCorpusReader(corpus_root, '.*txt')  # all files ending in 'txt' \n",
    "\n",
    "inaug.fileids()\n",
    "\n",
    "#Example of word tokenazation of first 50 words\n",
    "print(inaug.words()[:50])\n",
    "    \n",
    "# Corpus size in number of words\n",
    "print(\"Number of words in corpus\", len(inaug.words()))\n",
    "\n",
    "# Building word frequency distribution for the entire corpus\n",
    "inaug_freq = nltk.FreqDist(inaug.words())\n",
    "inaug_freq.most_common(10)"
   ]
  },
  {
   "cell_type": "markdown",
   "metadata": {
    "id": "ijJnggnBsPwS"
   },
   "source": [
    "# Punctation Removal\n"
   ]
  },
  {
   "cell_type": "code",
   "execution_count": 11,
   "metadata": {
    "colab": {
     "base_uri": "https://localhost:8080/"
    },
    "id": "giqEZbmDsxYv",
    "outputId": "afa6a6d0-c183-4a19-f72d-6cdcc32f410c",
    "scrolled": true
   },
   "outputs": [],
   "source": [
    "#remove punctuation from all .txt in a directory\n",
    "from string import punctuation\n",
    "import os\n",
    "import re\n",
    "\n",
    "def remove_punc(string):\n",
    "    punc = '''!()-{};:\"\\<>,[]/?@#$%^&*_~'''\n",
    "    for ele in string:  \n",
    "        if ele in punc:  \n",
    "            string = string.replace(ele, \"\") \n",
    "    return string\n",
    "\n",
    "loop_dir= 'C:/Users/Lerog/Documents/M1/IRTM/txt2/'\n",
    "save_dir = 'C:/Users/Lerog/Documents/M1/IRTM/PunctuationDot/'\n",
    "\n",
    "# Open a file and read it into memory\n",
    "for txt in os.listdir(loop_dir):\n",
    "    file = open(loop_dir + txt)\n",
    "    save_file = open(save_dir + txt, 'w')\n",
    "    text = file.read()\n",
    "    # Apply the stoplist to the text\n",
    "    save_file.write(remove_punc(text))"
   ]
  },
  {
   "cell_type": "markdown",
   "metadata": {},
   "source": [
    "Folder Punctuation is all text with no punctuation at all, PunctuationDot is all text with no punctuation except the '.'"
   ]
  },
  {
   "cell_type": "markdown",
   "metadata": {
    "id": "upNgyvnSsVUQ"
   },
   "source": [
    "# Stop Words Removal"
   ]
  },
  {
   "cell_type": "code",
   "execution_count": 14,
   "metadata": {
    "colab": {
     "base_uri": "https://localhost:8080/"
    },
    "id": "uT_w5sQrsO19",
    "outputId": "1e818b27-850f-4dce-81b9-9e7ab171aa85",
    "scrolled": true
   },
   "outputs": [
    {
     "name": "stderr",
     "output_type": "stream",
     "text": [
      "[nltk_data] Downloading package stopwords to\n",
      "[nltk_data]     C:\\Users\\Lerog\\AppData\\Roaming\\nltk_data...\n",
      "[nltk_data]   Package stopwords is already up-to-date!\n"
     ]
    }
   ],
   "source": [
    "import nltk\n",
    "nltk.download('stopwords')\n",
    "from nltk.corpus import stopwords\n",
    "import os\n",
    "\n",
    "# Bring in the stop words\n",
    "#stoplist = stopwords.words('list.txt')\n",
    "stoplist = stopwords.words('english')\n",
    "\n",
    "\n",
    "\n",
    "# change loop dir to the FULL path of where all .txt files reside\n",
    "# change save path to a dir where the new stop word removed txt files saved\n",
    "loop_dir = \"C:/Users/Lerog/Documents/M1/IRTM/Punctuation/\"\n",
    "save_dir= \"C:/Users/Lerog/Documents/M1/IRTM/Stopword/\"\n",
    "\n",
    "# Open a file and read it into memory\n",
    "for txt in os.listdir(loop_dir):\n",
    "    file = open(loop_dir + txt)\n",
    "    save_file = open(save_dir + txt, 'w')\n",
    "    text = file.read()\n",
    "    # Apply the stoplist to the text\n",
    "    cleaned = [word for word in text.split() if word not in stoplist]\n",
    "    save_file.writelines([\"%s \" % item  for item in cleaned])"
   ]
  },
  {
   "cell_type": "markdown",
   "metadata": {
    "id": "plK0j68rkxuc"
   },
   "source": [
    "# Lemmatization\n"
   ]
  },
  {
   "cell_type": "code",
   "execution_count": 4,
   "metadata": {
    "id": "Fz7WqTT5jywe"
   },
   "outputs": [],
   "source": [
    "#Tagging and Lemmatization with SpaCy\n",
    "import spacy\n",
    "import os \n",
    "nlp = spacy.load(\"en_core_web_sm\")\n",
    "loop_dir = \"C:/Users/Lerog/Documents/M1/IRTM/StopwordDot/\"\n",
    "save_dir= \"C:/Users/Lerog/Documents/M1/IRTM/LemmatizationDot/\"\n",
    "#loop_dir = \"C:/Users/Lerog/Documents/M1/IRTM/Stopword/\"\n",
    "#save_dir= \"C:/Users/Lerog/Documents/M1/IRTM/Lemmatization/\"\n",
    "for txt in os.listdir(loop_dir):\n",
    "  file = open(loop_dir + txt)\n",
    "  save_file = open(save_dir + txt, 'w')\n",
    "  text = file.read()\n",
    "  doc = nlp(text)\n",
    "  for token in doc:\n",
    "    save_file.writelines([\"%s \" %token.lemma_])\n",
    "#save_file.writelines(['(',token.lemma_,',', token.tag_ ,')'])\n",
    "#print(token.text, token.lemma_, token.pos_, token.tag_)\n"
   ]
  },
  {
   "cell_type": "markdown",
   "metadata": {
    "id": "RXrfyH5Anzvo"
   },
   "source": [
    "# Tokenization\n"
   ]
  },
  {
   "cell_type": "code",
   "execution_count": 3,
   "metadata": {
    "colab": {
     "base_uri": "https://localhost:8080/"
    },
    "id": "XvDeJvDeouyk",
    "outputId": "2dea7b38-e68b-4567-d106-d33638edd01b"
   },
   "outputs": [
    {
     "name": "stderr",
     "output_type": "stream",
     "text": [
      "[nltk_data] Downloading package punkt to\n",
      "[nltk_data]     C:\\Users\\Lerog\\AppData\\Roaming\\nltk_data...\n",
      "[nltk_data]   Package punkt is already up-to-date!\n"
     ]
    }
   ],
   "source": [
    "import nltk\n",
    "nltk.download('punkt')\n",
    "from nltk.tokenize import word_tokenize\n",
    "import os\n",
    "import re\n",
    "\n",
    "loop_dir= \"C:/Users/Lerog/Documents/M1/IRTM/Lemmatization/\"\n",
    "save_dir = \"C:/Users/Lerog/Documents/M1/IRTM/Wordtoken/\"\n",
    "\n",
    "# Open a file and read it into memory\n",
    "for txt in os.listdir(loop_dir):\n",
    "    file = open(loop_dir + txt)\n",
    "    save_file = open(save_dir + txt, 'w')\n",
    "    text = file.read()\n",
    "    save_file.writelines([\"%s \" % word_tokenize(text)])"
   ]
  },
  {
   "cell_type": "markdown",
   "metadata": {
    "id": "9Oj7up1CCl5I"
   },
   "source": [
    "# Topic modeling"
   ]
  },
  {
   "cell_type": "code",
   "execution_count": 19,
   "metadata": {
    "colab": {
     "base_uri": "https://localhost:8080/"
    },
    "id": "Plsqm9khClmS",
    "outputId": "8d724998-4360-4ff7-9181-79a25863a224"
   },
   "outputs": [
    {
     "name": "stdout",
     "output_type": "stream",
     "text": [
      "0\n",
      "['tj', 'covid19', 'pandemic', 'week', 'individual', 'mk', 'worker', 'maria', 'solidarity', 'vaccine']\n",
      "1\n",
      "['china', 'outbreak', 'wuhan', 'ship', 'tj', 'sb', 'chinese', 'cruise', 'window', 'hubei']\n",
      "2\n",
      "['mh', 'margaret', 'unmute', 'mask', 'young', 'cluster', 'physical', 'study', 'kerkhove', 'van']\n",
      "3\n",
      "['fc', 'fadela', 'trial', 'accelerator', 'clinical', 'phase', 'young', 'safety', 'diagnostic', 'pcr']\n",
      "4\n",
      "['school', 'child', 'adolescent', 'education', 'reopen', 'woman', 'young', 'study', 'unicef', 'pandemic']\n",
      "5\n",
      "['ta', 'committee', 'humantohuman', 'china', 'emergency', 'action', 'chinese', 'wuhan', 'member', 'state']\n",
      "6\n",
      "['trial', 'hydroxychloroquine', 'drug', 'patient', 'datum', 'safety', 'clinical', 'soumya', 'arm', 'covid19']\n",
      "7\n",
      "['vaccine', 'covax', 'candidate', 'aylward', 'accelerator', 'bruce', 'antibody', 'dose', 'facility', 'swaminathan']\n",
      "8\n",
      "['trace', 'suppress', 'vaccine', 'unity', 'life', 'month', 'tracing', 'difficult', 'save', 'brazil']\n",
      "9\n",
      "['iran', 'containment', 'china', 'contain', 'korea', 'italy', 'unclear', 'aggressive', 'approach', 'supply']\n",
      "10\n",
      "['africa', 'african', 'wave', 'continent', 'south', 'john', 'testing', 'ma', 'trace', 'solidarity']\n",
      "11\n",
      "['mo', 'ta', 'hubei', 'stephanie', 'province', 'yesterday', 'age', 'individual', 'online', 'cluster']\n",
      "12\n",
      "['zoom', 'face', 'fever', 'feel', 'february', 'fear', 'fc', 'fatality', 'fast', 'far']\n",
      "13\n",
      "['worker', 'safety', 'patient', 'healthcare', 'nurse', 'jeremy', 'mental', 'uk', 'year', 'training']\n",
      "14\n",
      "['fa', 'bruce', 'period', 'dose', 'fadela', 'africa', 'anna', 'covax', 'parent', '14']\n",
      "15\n",
      "['refugee', 'camp', 'host', 'wave', 'population', 'recovery', 'safety', 'cluster', 'peak', 'environment']\n",
      "16\n",
      "['foundation', 'professor', 'funding', 'fund', 'independent', 'healthy', 'idea', 'preparedness', 'workforce', 'air']\n",
      "17\n",
      "['mask', 'wear', 'tj', 'guidance', 'evidence', 'material', 'india', 'medical', 'sick', 'paper']\n",
      "18\n",
      "['excellency', 'covid19', 'pool', 'initiative', 'president', 'access', 'technology', 'equitable', 'syndrome', 'vaccine']\n",
      "19\n",
      "['ma', 'death', 'hiv', 'animal', 'margaret', 'april', 'publication', 'field', 'brazil', 'rise']\n"
     ]
    }
   ],
   "source": [
    "from sklearn.feature_extraction.text import TfidfVectorizer\n",
    "from sklearn.decomposition import NMF\n",
    "import os\n",
    "\n",
    "\n",
    "def display_topics(model, feature_names, no_top_words):\n",
    "    for topic_idx, topic in enumerate(model.components_):\n",
    "        print(topic_idx)\n",
    "        print([feature_names[i] for i in topic.argsort()[:-no_top_words - 1:-1]])\n",
    "        topic_idx = [feature_names[i] for i in topic.argsort()[:-no_top_words - 1:-1]]\n",
    "\n",
    "loop_dir =\"C:/Users/Lerog/Documents/M1/IRTM/Wordtoken/\"\n",
    "\n",
    "documents=[]\n",
    "for txt in os.listdir(loop_dir):\n",
    "  file = open(loop_dir + txt)\n",
    "  text = file.read()\n",
    "  documents.append(text)\n",
    "\n",
    "no_features = 1000\n",
    "\n",
    "#We use tf-idf as an input for NMF\n",
    "tfidf_vectorizer = TfidfVectorizer(max_df=0.95, min_df=2, max_features=no_features, stop_words='english')\n",
    "tfidf = tfidf_vectorizer.fit_transform(documents)\n",
    "tfidf_feature_names = tfidf_vectorizer.get_feature_names()\n",
    "\n",
    "\n",
    "\n",
    "#for n in [5,10,15,20,25,30]:\n",
    "n=20\n",
    "no_topics = n\n",
    "\n",
    "# Run NMF\n",
    "nmf = NMF(n_components=no_topics, random_state=1, alpha=.1, l1_ratio=.5, init='nndsvd').fit(tfidf)\n",
    "\n",
    "\n",
    "no_top_words = 10\n",
    "display_topics(nmf, tfidf_feature_names, no_top_words)\n",
    "\n",
    "topics = []\n",
    "feature_names = tfidf_feature_names\n",
    "for topic_idx, topic in enumerate(nmf.components_):\n",
    "  topics.append([feature_names[i] for i in topic.argsort()[:-no_top_words - 1:-1]])"
   ]
  },
  {
   "cell_type": "markdown",
   "metadata": {
    "id": "i5onEUg2yZON"
   },
   "source": [
    "# Sentiment analysis"
   ]
  },
  {
   "cell_type": "code",
   "execution_count": 7,
   "metadata": {
    "colab": {
     "base_uri": "https://localhost:8080/"
    },
    "id": "uxxW-GgRlRXR",
    "outputId": "bfc4dd08-7d12-47e0-f9f2-f1a7418a5132"
   },
   "outputs": [
    {
     "name": "stdout",
     "output_type": "stream",
     "text": [
      "Football is a great sport to burn calories.\n",
      "0.6249\n",
      "Football is not a great sport to burn calories.\n",
      "-0.5096\n",
      "Football is really not a great sport to burn calories.\n",
      "-0.5533\n",
      "I like football.\n",
      "0.3612\n",
      "I dislike football.\n",
      "-0.3818\n"
     ]
    },
    {
     "name": "stderr",
     "output_type": "stream",
     "text": [
      "[nltk_data] Downloading package vader_lexicon to\n",
      "[nltk_data]     C:\\Users\\Lerog\\AppData\\Roaming\\nltk_data...\n",
      "[nltk_data]   Package vader_lexicon is already up-to-date!\n"
     ]
    }
   ],
   "source": [
    "#Testing negation handling of Vader\n",
    "import nltk\n",
    "nltk.download('vader_lexicon')\n",
    "from nltk.sentiment import SentimentIntensityAnalyzer\n",
    "sia = SentimentIntensityAnalyzer()\n",
    " \n",
    "sentences = [\"Football is a great sport to burn calories.\", \"Football is not a great sport to burn calories.\",\n",
    "             \"Football is really not a great sport to burn calories.\",\"I like football.\",\"I dislike football.\"]\n",
    "\n",
    "for sentence in sentences:\n",
    "    print(sentence)\n",
    "    print(sia.polarity_scores(sentence)[\"compound\"])"
   ]
  },
  {
   "cell_type": "code",
   "execution_count": 4,
   "metadata": {},
   "outputs": [
    {
     "name": "stderr",
     "output_type": "stream",
     "text": [
      "[nltk_data] Downloading package vader_lexicon to\n",
      "[nltk_data]     C:\\Users\\Lerog\\AppData\\Roaming\\nltk_data...\n",
      "[nltk_data]   Package vader_lexicon is already up-to-date!\n",
      "[nltk_data] Downloading package punkt to\n",
      "[nltk_data]     C:\\Users\\Lerog\\AppData\\Roaming\\nltk_data...\n",
      "[nltk_data]   Package punkt is already up-to-date!\n"
     ]
    },
    {
     "name": "stdout",
     "output_type": "stream",
     "text": [
      "100\n",
      "100\n"
     ]
    }
   ],
   "source": [
    "import pandas as pd\n",
    "import nltk\n",
    "import os\n",
    "nltk.download('vader_lexicon')\n",
    "nltk.download('punkt')\n",
    "from nltk.sentiment import SentimentIntensityAnalyzer\n",
    "sia = SentimentIntensityAnalyzer()\n",
    "\n",
    "loop_dir = \"C:/Users/Lerog/Documents/M1/IRTM/LemmatizationDot/\"\n",
    "rates = []\n",
    "index = []\n",
    "i=0\n",
    "for txt in os.listdir(loop_dir):\n",
    "    file = open(loop_dir + txt)\n",
    "    text = file.read()\n",
    "    positivity = 0\n",
    "    m=0\n",
    "    for sentence in nltk.sent_tokenize(text):\n",
    "        m += 1\n",
    "        positivity += sia.polarity_scores(sentence)[\"compound\"]\n",
    "    rates.append(positivity/m)\n",
    "    index.append(i)\n",
    "    i+=1\n",
    "print(len(rates))\n",
    "print(len(index))\n",
    "df = pd.DataFrame.from_dict({'Sentiment':rates,'index':index})\n",
    "df.to_excel('sentimentmonth.xlsx', header=True, index=False)"
   ]
  },
  {
   "cell_type": "code",
   "execution_count": 20,
   "metadata": {
    "colab": {
     "base_uri": "https://localhost:8080/"
    },
    "id": "_aO9ydxvX8jg",
    "outputId": "5c40290f-f8f0-41c4-9238-e6b2691abd7c"
   },
   "outputs": [
    {
     "name": "stderr",
     "output_type": "stream",
     "text": [
      "[nltk_data] Downloading package vader_lexicon to\n",
      "[nltk_data]     C:\\Users\\Lerog\\AppData\\Roaming\\nltk_data...\n",
      "[nltk_data]   Package vader_lexicon is already up-to-date!\n",
      "[nltk_data] Downloading package punkt to\n",
      "[nltk_data]     C:\\Users\\Lerog\\AppData\\Roaming\\nltk_data...\n",
      "[nltk_data]   Package punkt is already up-to-date!\n"
     ]
    },
    {
     "name": "stdout",
     "output_type": "stream",
     "text": [
      "20\n"
     ]
    }
   ],
   "source": [
    "import pandas as pd\n",
    "import nltk\n",
    "nltk.download('vader_lexicon')\n",
    "nltk.download('punkt')\n",
    "from nltk.sentiment import SentimentIntensityAnalyzer\n",
    "sia = SentimentIntensityAnalyzer()\n",
    "\n",
    "loop_dir = \"C:/Users/Lerog/Documents/M1/IRTM/LemmatizationDot/\"\n",
    "rates = []\n",
    "relevant_sentences = []\n",
    "occurences = []\n",
    "\n",
    "for i in range(n):\n",
    "    relevant_sentences.append([])\n",
    "    for txt in os.listdir(loop_dir):\n",
    "        file = open(loop_dir + txt)\n",
    "        text = file.read()\n",
    "        for sentence in nltk.sent_tokenize(text):\n",
    "            for token in topics[i]:\n",
    "                if token in sentence:\n",
    "                    relevant_sentences[i].append(sentence)\n",
    "    relevant_sentences[i] = list(dict.fromkeys(relevant_sentences[i]))\n",
    "    m = len(relevant_sentences[i])+1\n",
    "    positivity = 0\n",
    "    for sentence in relevant_sentences[i]:\n",
    "      positivity += sia.polarity_scores(sentence)[\"compound\"]\n",
    "    rates.append(positivity/m)\n",
    "    occurences.append(m)\n",
    "print(len(rates))"
   ]
  },
  {
   "cell_type": "code",
   "execution_count": 9,
   "metadata": {},
   "outputs": [
    {
     "name": "stdout",
     "output_type": "stream",
     "text": [
      "20\n",
      "20\n"
     ]
    }
   ],
   "source": [
    "print(len(occurences))\n",
    "print(len(topics))\n",
    "\n",
    "df = pd.DataFrame.from_dict({'topic':topics,'Sentiment':rates,'Occurences':occurences})\n",
    "df.to_excel('sentimenttotal.xlsx', header=True, index=False)"
   ]
  },
  {
   "cell_type": "markdown",
   "metadata": {},
   "source": [
    "In the following cell we take the 20 topics as an input.\n",
    "Then, for each topic and its 10 most frequent words :\n",
    "We analyse the overall sentiment of the topic in each document by summing the sentiment of each phrase containing a word of the topic.\n",
    "We also count the occurences of the topic in each document."
   ]
  },
  {
   "cell_type": "code",
   "execution_count": 11,
   "metadata": {},
   "outputs": [
    {
     "name": "stderr",
     "output_type": "stream",
     "text": [
      "[nltk_data] Downloading package vader_lexicon to\n",
      "[nltk_data]     C:\\Users\\Lerog\\AppData\\Roaming\\nltk_data...\n",
      "[nltk_data]   Package vader_lexicon is already up-to-date!\n",
      "[nltk_data] Downloading package punkt to\n",
      "[nltk_data]     C:\\Users\\Lerog\\AppData\\Roaming\\nltk_data...\n",
      "[nltk_data]   Package punkt is already up-to-date!\n"
     ]
    },
    {
     "name": "stdout",
     "output_type": "stream",
     "text": [
      "2000\n"
     ]
    }
   ],
   "source": [
    "import pandas as pd\n",
    "import nltk\n",
    "nltk.download('vader_lexicon')\n",
    "nltk.download('punkt')\n",
    "from nltk.sentiment import SentimentIntensityAnalyzer\n",
    "sia = SentimentIntensityAnalyzer()\n",
    "\n",
    "loop_dir = \"C:/Users/Lerog/Documents/M1/IRTM/LemmatizationDot/\"  \n",
    "rates = []\n",
    "relevant_sentences = []\n",
    "occurences = []\n",
    "for txt in os.listdir(loop_dir):\n",
    "  relevant_sentences = []\n",
    "  file = open(loop_dir + txt)\n",
    "  text = file.read()\n",
    "  for i in range(n):\n",
    "    relevant_sentences.append([])\n",
    "    for sentence in nltk.sent_tokenize(text):\n",
    "      for token in topics[i]:\n",
    "        if token in sentence:\n",
    "          relevant_sentences[i].append(sentence)\n",
    "    relevant_sentences[i] = list(dict.fromkeys(relevant_sentences[i]))\n",
    "    m = len(relevant_sentences[i])+1\n",
    "    positivity = 0\n",
    "    for sentence in relevant_sentences[i]:\n",
    "      positivity += sia.polarity_scores(sentence)[\"compound\"]\n",
    "    rates.append(positivity/m)\n",
    "    occurences.append(m)\n",
    "print(len(rates))\n",
    "  "
   ]
  },
  {
   "cell_type": "code",
   "execution_count": 12,
   "metadata": {
    "colab": {
     "base_uri": "https://localhost:8080/"
    },
    "id": "Kg80UDAN2uUT",
    "outputId": "1e590785-9a98-4028-e224-284f9b1ee487"
   },
   "outputs": [
    {
     "name": "stdout",
     "output_type": "stream",
     "text": [
      "2000\n",
      "2000\n"
     ]
    }
   ],
   "source": [
    "topics = topics*100\n",
    "print(len(occurences))\n",
    "print(len(topics))\n",
    "index = []\n",
    "for i in range(100):\n",
    "  for j in range(20):\n",
    "    index.append(i)\n",
    "df = pd.DataFrame.from_dict({'topic':topics,'Sentiment':rates, 'index':index,'Occurences':occurences})\n",
    "df.to_excel('sentimentbydoc.xlsx', header=True, index=False)"
   ]
  },
  {
   "cell_type": "code",
   "execution_count": 6,
   "metadata": {
    "colab": {
     "base_uri": "https://localhost:8080/"
    },
    "id": "kF1bW3IVDcZE",
    "outputId": "317b5fb9-3f62-4460-b86e-868c940b2f67"
   },
   "outputs": [
    {
     "name": "stdout",
     "output_type": "stream",
     "text": [
      "Topic: 0 Word: 0.001*\"MH\" + 0.001*\"TJ\" + 0.001*\"and\" + 0.001*\"FC\" + 0.001*\"child\" + 0.001*\"school\" + 0.001*\"tj\" + 0.000*\"Iran\" + 0.000*\"TA\" + 0.000*\"COVAX\"\n",
      "Topic: 1 Word: 0.000*\"MH\" + 0.000*\"Catharina\" + 0.000*\"Olympics\" + 0.000*\"Julia\" + 0.000*\"decisive\" + 0.000*\"mutation\" + 0.000*\"Facility\" + 0.000*\"Trial\" + 0.000*\"Poland\" + 0.000*\"Pawel\"\n",
      "Topic: 2 Word: 0.000*\"Kosovo\" + 0.000*\"IMF\" + 0.000*\"Georgieva\" + 0.000*\"Doolio\" + 0.000*\"Kristalina\" + 0.000*\"liquidity\" + 0.000*\"KG\" + 0.000*\"Zeltner\" + 0.000*\"JM\" + 0.000*\"Jamey\"\n",
      "Topic: 3 Word: 0.000*\"Liang\" + 0.000*\"Hunt\" + 0.000*\"Sy\" + 0.000*\"Mission\" + 0.000*\"Joint\" + 0.000*\"Brundtland\" + 0.000*\"Ryder\" + 0.000*\"fs\" + 0.000*\"Gro\" + 0.000*\"EAS\"\n",
      "Topic: 4 Word: 0.000*\"HVJ\" + 0.000*\"©\" + 0.000*\"Ã\" + 0.000*\"la\" + 0.000*\"nous\" + 0.000*\"que\" + 0.000*\"les\" + 0.000*\"qui\" + 0.000*\"pas\" + 0.000*\"vous\"\n",
      "Topic: 5 Word: 0.000*\"Jacqueline\" + 0.000*\"CL\" + 0.000*\"demos\" + 0.000*\"pan\" + 0.000*\"Iran\" + 0.000*\"Katrin\" + 0.000*\"Banjot\" + 0.000*\"Ashleigh\" + 0.000*\"Christoph\" + 0.000*\"mitigation\"\n",
      "Topic: 6 Word: 0.000*\"breastfeed\" + 0.000*\"adolescent\" + 0.000*\"Iran\" + 0.000*\"iranian\" + 0.000*\"healthworker\" + 0.000*\"sexual\" + 0.000*\"Jayathma\" + 0.000*\"Anshu\" + 0.000*\"Azerbaijan\" + 0.000*\"Chile\"\n",
      "Topic: 7 Word: 0.001*\"FA\" + 0.000*\"Sunstein\" + 0.000*\"steer\" + 0.000*\"CL\" + 0.000*\"les\" + 0.000*\"Jock\" + 0.000*\"Tami\" + 0.000*\"nÃ\" + 0.000*\"JL\" + 0.000*\"©\"\n",
      "\n",
      "Coherence Score:  0.4787981242844724\n",
      "\n",
      "Coherence Score:  -12.083415038917332\n"
     ]
    }
   ],
   "source": [
    "import numpy as np\n",
    "from gensim import corpora\n",
    "from gensim.models import CoherenceModel, LdaModel, HdpModel, LdaMulticore\n",
    "from gensim.models.wrappers import LdaVowpalWabbit, LdaMallet\n",
    "from gensim.corpora import Dictionary\n",
    "import os\n",
    "from nltk.tokenize import word_tokenize\n",
    "documents=[]\n",
    "loop_dir = \"C:/Users/Lerog/Documents/M1/IRTM/Lemmatization/\" \n",
    "for txt in os.listdir(loop_dir):\n",
    "  file = open(loop_dir + txt)\n",
    "  text = file.read()\n",
    "  documents.append([word for word in word_tokenize(text)])\n",
    "#print(documents[0])\n",
    "dictionary = corpora.Dictionary(documents)\n",
    "corpus = [dictionary.doc2bow(text) for text in documents]\n",
    "from gensim import corpora, models\n",
    "tfidf = models.TfidfModel(corpus)\n",
    "corpus_tfidf = tfidf[corpus]\n",
    "\n",
    "\n",
    "ldatf = LdaMulticore(corpus_tfidf, num_topics=8, id2word=dictionary, passes=10, workers=10)\n",
    "for idx, topic in ldatf.print_topics(-1):\n",
    "    print('Topic: {} Word: {}'.format(idx, topic))\n",
    "# Compute Coherence Score\n",
    "coherence_model_lda = CoherenceModel(model=ldatf, texts=documents ,dictionary = dictionary, coherence='c_v')\n",
    "coherence_lda = coherence_model_lda.get_coherence()\n",
    "print('\\nCoherence Score: ', coherence_lda)\n",
    "coherence_model_lda = CoherenceModel(model=ldatf, texts=documents ,dictionary = dictionary, coherence='u_mass')\n",
    "coherence_lda = coherence_model_lda.get_coherence()\n",
    "print('\\nCoherence Score: ', coherence_lda)\n"
   ]
  },
  {
   "cell_type": "code",
   "execution_count": 4,
   "metadata": {
    "colab": {
     "base_uri": "https://localhost:8080/",
     "height": 282
    },
    "id": "DNdDyv-QRghU",
    "outputId": "573bb345-e361-4da3-8227-8db8c7531ff3"
   },
   "outputs": [
    {
     "data": {
      "image/png": "[encoded data removed]",
      "text/plain": [
       "<Figure size 432x288 with 1 Axes>"
      ]
     },
     "metadata": {
      "needs_background": "light"
     },
     "output_type": "display_data"
    }
   ],
   "source": [
    "def compute_coherence_values(dictionary, corpus, texts, limit, start=2, step=3):\n",
    "    coherence_values = []\n",
    "    model_list = []\n",
    "    for num_topics in range(start, limit, step):\n",
    "        model=LdaMulticore(corpus=corpus, id2word=dictionary, num_topics=num_topics,passes=5, workers=4)\n",
    "        model_list.append(model)\n",
    "        coherencemodel = CoherenceModel(model=model, texts=texts, dictionary=dictionary, coherence='c_v')\n",
    "        coherence_values.append(coherencemodel.get_coherence())\n",
    "\n",
    "    return model_list, coherence_values\n",
    "\n",
    "model_list, coherence_values = compute_coherence_values(dictionary=dictionary, corpus=corpus_tfidf, texts=documents, start=2, limit=40, step=6)\n",
    "# Show graph\n",
    "import matplotlib.pyplot as plt\n",
    "limit=40; start=2; step=6;\n",
    "x = range(start, limit, step)\n",
    "plt.plot(x, coherence_values)\n",
    "plt.xlabel(\"Num Topics\")\n",
    "plt.ylabel(\"Coherence score\")\n",
    "plt.legend((\"coherence_values\"), loc='best')\n",
    "plt.show()"
   ]
  },
  {
   "cell_type": "code",
   "execution_count": 5,
   "metadata": {
    "colab": {
     "base_uri": "https://localhost:8080/",
     "height": 279
    },
    "id": "2mQt2YkiTOdX",
    "outputId": "010ac42e-9986-4642-aacb-0b64f8145928",
    "scrolled": true
   },
   "outputs": [
    {
     "data": {
      "image/png": "[encoded data removed]",
      "text/plain": [
       "<Figure size 432x288 with 1 Axes>"
      ]
     },
     "metadata": {
      "needs_background": "light"
     },
     "output_type": "display_data"
    }
   ],
   "source": [
    "def compute_coherence_values(dictionary, corpus, texts, limit, start=2, step=3):\n",
    "    coherence_values = []\n",
    "    model_list = []\n",
    "    for num_topics in range(start, limit, step):\n",
    "        model=LdaMulticore(corpus=corpus, id2word=dictionary, num_topics=num_topics,passes=5, workers=4)\n",
    "        model_list.append(model)\n",
    "        coherencemodel = CoherenceModel(model=model, texts=texts, dictionary=dictionary, coherence='u_mass')\n",
    "        coherence_values.append(coherencemodel.get_coherence())\n",
    "\n",
    "    return model_list, coherence_values\n",
    "\n",
    "model_list, coherence_values = compute_coherence_values(dictionary=dictionary, corpus=corpus_tfidf, texts=documents, start=2, limit=40, step=6)\n",
    "# Show graph\n",
    "import matplotlib.pyplot as plt\n",
    "limit=40; start=2; step=6;\n",
    "x = range(start, limit, step)\n",
    "plt.plot(x, coherence_values)\n",
    "plt.xlabel(\"Num Topics\")\n",
    "plt.ylabel(\"Coherence score\")\n",
    "plt.legend((\"coherence_values\"), loc='best')\n",
    "plt.show()"
   ]
  },
  {
   "cell_type": "code",
   "execution_count": 21,
   "metadata": {},
   "outputs": [
    {
     "name": "stdout",
     "output_type": "stream",
     "text": [
      "   0     1                                                  2  3     4\n",
      "0  1   0 9  Good evening again to everyone and thank you v...  1   0 8\n",
      "1  1   0 4  Thanks also to all journalists who are online ...  1   0 4\n",
      "2 -1  -0 5         We are late  so I will just keep it short. -1  -0 3\n",
      "3  1   0 1  You know today was the first meeting of the Em...  1   0 2\n",
      "4  1   0 6  And good evening to everyone in the room and e...  1   0 4\n",
      "51 1\n",
      "0 18\n",
      "Kappa value is 0.963273871983211\n"
     ]
    }
   ],
   "source": [
    "#Kappa distance measure\n",
    "import pandas as pd\n",
    "df = pd.read_csv('Validation.csv', sep=\",\",header=None)\n",
    "print(df.head())\n",
    "j=0\n",
    "A = 0\n",
    "B = 0\n",
    "C = 0\n",
    "D = 0\n",
    "for i in df[0]:\n",
    "    k = df.iloc[j,3]\n",
    "    if i == 1 and k == 1:\n",
    "        A+=1\n",
    "    if i == -1 and k == -1:\n",
    "        D+=1\n",
    "    if i == 1 and k == -1:\n",
    "        B+=1\n",
    "    if i == -1 and k == 1:\n",
    "        C+=1\n",
    "    j+=1\n",
    "print(A,B)\n",
    "print(C,D)\n",
    "p0=(A+D)/(A+B+C+D)\n",
    "pyes=((A+B)/(A+B+C+D))*((A+C)/(A+B+C+D))\n",
    "pno=((B+D)/(A+B+C+D))*((C+D)/(A+B+C+D))\n",
    "pe=pyes+pno\n",
    "kappa = (p0-pe)/(1-pe)\n",
    "print(\"Kappa value is\", kappa)"
   ]
  },
  {
   "cell_type": "code",
   "execution_count": null,
   "metadata": {},
   "outputs": [],
   "source": []
  }
 ],
 "metadata": {
  "colab": {
   "collapsed_sections": [
    "ijJnggnBsPwS",
    "RXrfyH5Anzvo",
    "plK0j68rkxuc",
    "zRJZxga7ZgBy"
   ],
   "name": "textmining.ipynb",
   "provenance": []
  },
  "kernelspec": {
   "display_name": "Python 3",
   "language": "python",
   "name": "python3"
  },
  "language_info": {
   "codemirror_mode": {
    "name": "ipython",
    "version": 3
   },
   "file_extension": ".py",
   "mimetype": "text/x-python",
   "name": "python",
   "nbconvert_exporter": "python",
   "pygments_lexer": "ipython3",
   "version": "3.7.3"
  }
 },
 "nbformat": 4,
 "nbformat_minor": 1
}
